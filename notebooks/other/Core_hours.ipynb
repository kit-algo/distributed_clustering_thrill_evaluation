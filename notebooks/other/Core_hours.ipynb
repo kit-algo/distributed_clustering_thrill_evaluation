{
 "cells": [
  {
   "cell_type": "code",
   "execution_count": 1,
   "metadata": {},
   "outputs": [],
   "source": [
    "import numpy as np\n",
    "import matplotlib as mpl\n",
    "%matplotlib inline\n",
    "\n",
    "import pandas as pd\n",
    "\n",
    "import json\n",
    "import glob\n",
    "import os"
   ]
  },
  {
   "cell_type": "code",
   "execution_count": 2,
   "metadata": {},
   "outputs": [],
   "source": [
    "data = {}\n",
    "\n",
    "for path in glob.glob(\"../../data/results/lfr_params_ground_truth/*.json\") + \\\n",
    "    glob.glob(\"../../data/results/lfr_params/**/*.json\", recursive=True) + \\\n",
    "    glob.glob(\"../../data/results/all_real/*.json\") + \\\n",
    "    glob.glob(\"../../data/results/all_real_seq/*.json\") + \\\n",
    "    glob.glob(\"../../data/results/all_real_seq2/*.json\") + \\\n",
    "    glob.glob(\"../../data/results/gossip_map/*.json\") + \\\n",
    "    glob.glob(\"../../data/results/gossip_map2/*.json\") + \\\n",
    "    glob.glob(\"../../data/results/louvain_baseline/*.json\") + \\\n",
    "    glob.glob(\"../../data/results/infomap_baseline/*.json\") + \\\n",
    "    glob.glob(\"../../data/results/weak_scaling/*.json\") + \\\n",
    "    glob.glob(\"../../data/results/weak_scaling_small_quality/**/*.json\", recursive=True):\n",
    "  for typename, items in json.load(open(path)).items():\n",
    "      if typename in data:\n",
    "        for key, object_data in items.items():\n",
    "          if key in data[typename]:\n",
    "            data[typename][key].update(object_data)\n",
    "          else:\n",
    "            data[typename][key] = object_data\n",
    "      else:\n",
    "        data[typename] = items\n",
    "\n",
    "frames = { typename: pd.DataFrame.from_dict(items, orient='index') for typename, items in data.items() }"
   ]
  },
  {
   "cell_type": "code",
   "execution_count": 3,
   "metadata": {},
   "outputs": [],
   "source": [
    "frames['algorithm_run']['runtime'].fillna((frames['algorithm_run']['done_ts'] - frames['algorithm_run']['start_ts']) / 1000000.0, inplace=True)"
   ]
  },
  {
   "cell_type": "code",
   "execution_count": 4,
   "metadata": {},
   "outputs": [],
   "source": [
    "frames['program_run']['hosts'].fillna(1, inplace=True)\n",
    "frames['program_run']['workers_per_host'].fillna(1, inplace=True)"
   ]
  },
  {
   "cell_type": "code",
   "execution_count": 9,
   "metadata": {},
   "outputs": [
    {
     "data": {
      "text/plain": [
       "3.5908500805376624"
      ]
     },
     "execution_count": 9,
     "metadata": {},
     "output_type": "execute_result"
    }
   ],
   "source": [
    "data = frames['algorithm_run'].merge(frames['program_run'], left_on='program_run_id', right_index=True)\n",
    "(data['runtime'] * data['hosts'] * data['workers_per_host']).sum() / 60 / 60 / 24 / 365"
   ]
  }
 ],
 "metadata": {
  "kernelspec": {
   "display_name": "Python 3",
   "language": "python",
   "name": "python3"
  },
  "language_info": {
   "codemirror_mode": {
    "name": "ipython",
    "version": 3
   },
   "file_extension": ".py",
   "mimetype": "text/x-python",
   "name": "python",
   "nbconvert_exporter": "python",
   "pygments_lexer": "ipython3",
   "version": "3.6.4"
  }
 },
 "nbformat": 4,
 "nbformat_minor": 2
}
