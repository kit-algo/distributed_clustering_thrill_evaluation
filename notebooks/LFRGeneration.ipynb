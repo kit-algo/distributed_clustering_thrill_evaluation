{
 "cells": [
  {
   "cell_type": "code",
   "execution_count": null,
   "metadata": {},
   "outputs": [],
   "source": [
    "from networkit import *"
   ]
  },
  {
   "cell_type": "code",
   "execution_count": null,
   "metadata": {
    "collapsed": true
   },
   "outputs": [],
   "source": [
    "n = 1000000\n",
    "generator = generators.LFRGenerator(n)"
   ]
  },
  {
   "cell_type": "code",
   "execution_count": null,
   "metadata": {},
   "outputs": [],
   "source": [
    "for gamma in [-2]:\n",
    "    for beta in [-1]:\n",
    "        for mu in [0.1, 0.2, 0.3, 0.4, 0.5, 0.6, 0.7, 0.8, 0.9]:\n",
    "            generator.setDegreeSequence(generators.PowerlawDegreeSequence(50, 10000, gamma).run().getDegreeSequence(n))\n",
    "            #generator.generatePowerlawDegreeSequence(50, 10000, gamma) EEEEEEVIL\n",
    "            generator.generatePowerlawCommunitySizeSequence(50, 12000, beta)\n",
    "            generator.setMu(mu)\n",
    "            generator.run()\n",
    "            \n",
    "            community.writeCommunities(generator.getPartition(), \"graph_g{0}_b{1}_m{2}.part\".format(-gamma, -beta, mu))\n",
    "            graphio.writeGraph(generator.getGraph(), \"graph_g{0}_b{1}_m{2}.graph\".format(-gamma, -beta, mu), Format.METIS)"
   ]
  }
 ],
 "metadata": {
  "anaconda-cloud": {},
  "kernelspec": {
   "display_name": "Python 3",
   "language": "python",
   "name": "python3"
  },
  "language_info": {
   "codemirror_mode": {
    "name": "ipython",
    "version": 3
   },
   "file_extension": ".py",
   "mimetype": "text/x-python",
   "name": "python",
   "nbconvert_exporter": "python",
   "pygments_lexer": "ipython3",
   "version": "3.7.0"
  }
 },
 "nbformat": 4,
 "nbformat_minor": 2
}
